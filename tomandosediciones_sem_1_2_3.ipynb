{
  "nbformat": 4,
  "nbformat_minor": 0,
  "metadata": {
    "colab": {
      "provenance": [],
      "authorship_tag": "ABX9TyPrWNVW6mpsCtkxN2Eh/+sO",
      "include_colab_link": true
    },
    "kernelspec": {
      "name": "python3",
      "display_name": "Python 3"
    },
    "language_info": {
      "name": "python"
    }
  },
  "cells": [
    {
      "cell_type": "markdown",
      "metadata": {
        "id": "view-in-github",
        "colab_type": "text"
      },
      "source": [
        "<a href=\"https://colab.research.google.com/github/gerardovitola-arch/fudamentos_2025_2/blob/main/tomandosediciones_sem_1_2_3.ipynb\" target=\"_parent\"><img src=\"https://colab.research.google.com/assets/colab-badge.svg\" alt=\"Open In Colab\"/></a>"
      ]
    },
    {
      "cell_type": "code",
      "execution_count": 4,
      "metadata": {
        "id": "GsxL678ZyCxc"
      },
      "outputs": [],
      "source": []
    },
    {
      "cell_type": "markdown",
      "source": [
        "# Situación de Interés en Ingeniería Agrícola fi:\n",
        "\n",
        " Se está diseñando el software para un sistema de riego “inteligente”. El programa debe leer el nivel de humedad actual del suelo (un valor de 0 a 100)\n",
        "y decidir qué acción tomar: no hacer nada, aplicar un riego ligero o aplicar un riego profundo, según\n",
        "umbrales predefinidos.\n",
        "\n"
      ],
      "metadata": {
        "id": "d95JggNWy2bT"
      }
    },
    {
      "cell_type": "code",
      "source": [
        "# Caso de Ingeniería Agrícola: Lógica de Riego Inteligente (if/elif/else)\n",
        "# Definir los umbrales de humedad (ej. por debajo de 30% es seco, entre 30% y 70% es óptimo, por encima de 70% es saturado).\n",
        "\n",
        "\n",
        "# Pedir al usuario el nivel de humedad actual.\n",
        "humedad_actual = float(input(\"\"))\n",
        "if humedad_actual < 30:\n",
        "  print(\"el suelo esta seco es necesario regarlo\")\n",
        "elif humedad_actual >= 30 and humedad_actual <= 70:\n",
        "  print(\"el riego es óptimo\")\n",
        "else:\n",
        "  print(\"el suelo esta saturado es necesario drenarlo\")\n",
        ""
      ],
      "metadata": {
        "colab": {
          "base_uri": "https://localhost:8080/"
        },
        "id": "8sy5Zw2v0M4B",
        "outputId": "6b1033dd-a848-4fb9-c2d4-2b0d04178e56"
      },
      "execution_count": 5,
      "outputs": [
        {
          "output_type": "stream",
          "name": "stdout",
          "text": [
            "10\n",
            "el suelo esta seco es necesario regarlo\n"
          ]
        }
      ]
    }
  ]
}