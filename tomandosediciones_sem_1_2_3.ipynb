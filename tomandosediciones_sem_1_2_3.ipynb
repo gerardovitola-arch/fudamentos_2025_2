{
  "nbformat": 4,
  "nbformat_minor": 0,
  "metadata": {
    "colab": {
      "provenance": [],
      "authorship_tag": "ABX9TyPbLKb/MHMkprwSjsU54wcP",
      "include_colab_link": true
    },
    "kernelspec": {
      "name": "python3",
      "display_name": "Python 3"
    },
    "language_info": {
      "name": "python"
    }
  },
  "cells": [
    {
      "cell_type": "markdown",
      "metadata": {
        "id": "view-in-github",
        "colab_type": "text"
      },
      "source": [
        "<a href=\"https://colab.research.google.com/github/gerardovitola-arch/fudamentos_2025_2/blob/main/tomandosediciones_sem_1_2_3.ipynb\" target=\"_parent\"><img src=\"https://colab.research.google.com/assets/colab-badge.svg\" alt=\"Open In Colab\"/></a>"
      ]
    },
    {
      "cell_type": "code",
      "execution_count": 6,
      "metadata": {
        "id": "GsxL678ZyCxc"
      },
      "outputs": [],
      "source": []
    },
    {
      "cell_type": "markdown",
      "source": [
        "# Situación de Interés en Ingeniería Agrícola fi:\n",
        "\n",
        " Se está diseñando el software para un sistema de riego “inteligente”. El programa debe leer el nivel de humedad actual del suelo (un valor de 0 a 100)\n",
        "y decidir qué acción tomar: no hacer nada, aplicar un riego ligero o aplicar un riego profundo, según\n",
        "umbrales predefinidos.\n",
        "\n"
      ],
      "metadata": {
        "id": "d95JggNWy2bT"
      }
    },
    {
      "cell_type": "code",
      "source": [
        "# Caso de Ingeniería Agrícola: Lógica de Riego Inteligente (if/elif/else)\n",
        "# Definir los umbrales de humedad (ej. por debajo de 30% es seco, entre 30% y 70% es óptimo, por encima de 70% es saturado).\n",
        "\n",
        "\n",
        "# Pedir al usuario el nivel de humedad actual.\n",
        "humedad_actual = float(input(\"\"))\n",
        "if humedad_actual < 30:\n",
        "  print(\"el suelo esta seco es necesario regarlo\")\n",
        "elif humedad_actual >= 30 and humedad_actual <= 70:\n",
        "  print(\"el riego es óptimo\")\n",
        "else:\n",
        "  print(\"el suelo esta saturado es necesario drenarlo\")\n",
        ""
      ],
      "metadata": {
        "colab": {
          "base_uri": "https://localhost:8080/"
        },
        "id": "8sy5Zw2v0M4B",
        "outputId": "aa361aec-314d-47bf-f5fb-9fd7ad95800b"
      },
      "execution_count": 7,
      "outputs": [
        {
          "output_type": "stream",
          "name": "stdout",
          "text": [
            "20\n",
            "el suelo esta seco es necesario regarlo\n"
          ]
        }
      ]
    },
    {
      "cell_type": "markdown",
      "source": [
        "#Situación de Interés en Ingeniería Agroindustrial fi:\n",
        "\n",
        "1.En una línea de empaque de frutas, un sensor mide el peso de cada fruta.\n",
        "\n",
        "2.Se necesita un programa que analice una lista de pesos de un lote y cuente cuántas frutas cumplen con el estándar de “Exportación” (ej. > 250g), cuántas son de “Mercado Nacional” (entre 150g y 250g) y cuántas se consideran “Rechazo” (< 150g)."
      ],
      "metadata": {
        "id": "xzGXQk9b6d-L"
      }
    },
    {
      "cell_type": "code",
      "source": [
        "\n",
        "# Definir una lista con los pesos de las frutas del lote (para simular los datos del sensor).\n",
        "pesos = {250,300,100,405,600}\n",
        "\n",
        "# Inicializar tres contadores en cero: exportacion, nacional y rechazo.\n",
        "exportacion = 0\n",
        "nacional = 0\n",
        "rechazo = 0\n",
        "\n",
        "# Usar un bucle for para recorrer cada peso en la lista de pesos_lote.\n",
        "# Dentro del bucle, usar if/elif/else para clasificar cada peso.\n",
        "if pesos > 250:\n",
        "  exportacion += 1\n",
        "elif pesos >= 150 and pesos <= 250:\n",
        "  nacional += 1\n",
        "else:\n",
        "  rechazo += 1\n",
        "\n",
        "# Imprimir los resultados."
      ],
      "metadata": {
        "colab": {
          "base_uri": "https://localhost:8080/",
          "height": 211
        },
        "id": "apP3-BON9aPn",
        "outputId": "12270eea-43d9-49e8-dbf8-6a75addbb1ee"
      },
      "execution_count": 10,
      "outputs": [
        {
          "output_type": "error",
          "ename": "TypeError",
          "evalue": "'>' not supported between instances of 'set' and 'int'",
          "traceback": [
            "\u001b[0;31m---------------------------------------------------------------------------\u001b[0m",
            "\u001b[0;31mTypeError\u001b[0m                                 Traceback (most recent call last)",
            "\u001b[0;32m/tmp/ipython-input-3061966267.py\u001b[0m in \u001b[0;36m<cell line: 0>\u001b[0;34m()\u001b[0m\n\u001b[1;32m      9\u001b[0m \u001b[0;31m# Usar un bucle for para recorrer cada peso en la lista de pesos_lote.\u001b[0m\u001b[0;34m\u001b[0m\u001b[0;34m\u001b[0m\u001b[0m\n\u001b[1;32m     10\u001b[0m \u001b[0;31m# Dentro del bucle, usar if/elif/else para clasificar cada peso.\u001b[0m\u001b[0;34m\u001b[0m\u001b[0;34m\u001b[0m\u001b[0m\n\u001b[0;32m---> 11\u001b[0;31m \u001b[0;32mif\u001b[0m \u001b[0mpesos\u001b[0m \u001b[0;34m>\u001b[0m \u001b[0;36m250\u001b[0m\u001b[0;34m:\u001b[0m\u001b[0;34m\u001b[0m\u001b[0;34m\u001b[0m\u001b[0m\n\u001b[0m\u001b[1;32m     12\u001b[0m   \u001b[0mexportacion\u001b[0m \u001b[0;34m+=\u001b[0m \u001b[0;36m1\u001b[0m\u001b[0;34m\u001b[0m\u001b[0;34m\u001b[0m\u001b[0m\n\u001b[1;32m     13\u001b[0m \u001b[0;32melif\u001b[0m \u001b[0mpesos\u001b[0m \u001b[0;34m>=\u001b[0m \u001b[0;36m150\u001b[0m \u001b[0;32mand\u001b[0m \u001b[0mpesos\u001b[0m \u001b[0;34m<=\u001b[0m \u001b[0;36m250\u001b[0m\u001b[0;34m:\u001b[0m\u001b[0;34m\u001b[0m\u001b[0;34m\u001b[0m\u001b[0m\n",
            "\u001b[0;31mTypeError\u001b[0m: '>' not supported between instances of 'set' and 'int'"
          ]
        }
      ]
    }
  ]
}